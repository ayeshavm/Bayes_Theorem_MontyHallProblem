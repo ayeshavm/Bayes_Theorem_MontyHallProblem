{
 "cells": [
  {
   "cell_type": "code",
   "execution_count": 1,
   "metadata": {},
   "outputs": [
    {
     "data": {
      "text/plain": [
       "'This code is a simulation of the Monty Hall problem.  In this popular game hosted by Monty Hall,  \\nthe contestant is presented with three doors.  Behind two of these doors will be a goat, and one door will \\nhave the grand prize of a shiny new car.\\nThe contestant picks one door initially, and Monty hall will open one of the two remaining doors, \\nwhich reveals one of the goats.  \\nThe contestant then is given the option to stay with their original door selection, or swap with the other door.'"
      ]
     },
     "execution_count": 1,
     "metadata": {},
     "output_type": "execute_result"
    }
   ],
   "source": [
    "\"\"\"This code is a simulation of the Monty Hall problem.  In this popular game hosted by Monty Hall,  \n",
    "the contestant is presented with three doors.  Behind two of these doors will be a goat, and one door will \n",
    "have the grand prize of a shiny new car.\n",
    "The contestant picks one door initially, and Monty hall will open one of the two remaining doors, \n",
    "which reveals one of the goats.  \n",
    "The contestant then is given the option to stay with their original door selection, or swap with the other door.\"\"\""
   ]
  },
  {
   "cell_type": "code",
   "execution_count": 2,
   "metadata": {
    "collapsed": true
   },
   "outputs": [],
   "source": [
    "import random\n",
    "import matplotlib.pyplot as plt\n",
    "import pandas as pd\n",
    "import seaborn as sns"
   ]
  },
  {
   "cell_type": "code",
   "execution_count": 3,
   "metadata": {
    "collapsed": true
   },
   "outputs": [],
   "source": [
    "class MH_Trial():\n",
    "    \"\"\" This class represents a trial object, for the Monty Hall problem\n",
    "        simulation. \"\"\"\n",
    "    \n",
    "    def __init__(self, number_of_trials, swap=False):\n",
    "        \"\"\" This method initializes the Trial class attributes. \"\"\"\n",
    "        self.zonk_count = 0\n",
    "        self.car_count = 0\n",
    "        self.number_of_trials = number_of_trials\n",
    "        self.doors = ['zonk', 'zonk', 'zonk']\n",
    "        self.available_doors = [1, 2, 3]\n",
    "        self.final_door_number = 0\n",
    "        self.swap = swap\n",
    "        self.results = []\n",
    "        \n",
    "        \n",
    "    def assign_car_to_door(self):\n",
    "        \"\"\" This method randomly assigns the car to one of the three doors.\"\"\"\n",
    "        self.doors = ['zonk', 'zonk', 'zonk']\n",
    "        car = random.randint(1, 3)\n",
    "        self.doors[car-1] = 'car'\n",
    "        \n",
    "        \n",
    "    def increment_zonk_count(self):\n",
    "        \"\"\" This method increments the zonk counts by 1 \"\"\"\n",
    "        self.zonk_count += 1\n",
    "        \n",
    "        \n",
    "    def increment_car_count(self):\n",
    "        \"\"\" This method increments the car counts by 1 \"\"\"\n",
    "        self.car_count += 1\n",
    "        \n",
    "        \n",
    "    def tally_result(self):\n",
    "        \"\"\" This method will increment the counts of cars vs zonks depending on what is found behind\n",
    "            the door selection, and append the result in the results [] \"\"\"\n",
    "        if self.doors[self.final_door_number - 1] == 'zonk':\n",
    "            self.increment_zonk_count()\n",
    "        elif self.doors[self.final_door_number - 1] == 'car':\n",
    "            self.increment_car_count()\n",
    "        \n",
    "        self.results.append(self.doors[self.final_door_number - 1])\n",
    "        \n",
    "        \n",
    "    def pick_door(self):\n",
    "        \"\"\" This method randomly selects a door which would correspond to the contestant's selection.\n",
    "            if swap=True, this will set the selection to the remaining 'closed' door\"\"\"\n",
    "        \n",
    "        remaining_doors = self.available_doors.copy()\n",
    "        self.final_door_number = random.randint(1, 3)\n",
    "        \n",
    "        if self.swap == True:\n",
    "            remaining_doors.pop(self.final_door_number - 1)\n",
    "            open_door = random.choice(remaining_doors)\n",
    "            open_door_idx = remaining_doors.index(open_door)\n",
    "            #final_door_idx = open_door_idx\n",
    "            \n",
    "            #print('****')\n",
    "            #print(open_door, self.doors[open_door - 1])\n",
    "            if self.doors[open_door - 1] == 'car':\n",
    "                if open_door_idx == 0:\n",
    "                    final_door_idx = 0\n",
    "                else:\n",
    "                    final_door_idx = 1\n",
    "            else:\n",
    "                \n",
    "                if open_door_idx == 0:\n",
    "                    final_door_idx = 1\n",
    "                else:\n",
    "                    final_door_idx = 0\n",
    "                \n",
    "            self.final_door_number = remaining_doors[final_door_idx]\n",
    "            \n",
    "    def print_final_tally(self):\n",
    "        \"\"\" This method prints the final tally for the number of trials where a zonk was selected vs. a car\"\"\"\n",
    "        \n",
    "        print('The probability of picking a door with a zonk : ' + str(self.zonk_count/self.number_of_trials))\n",
    "        print('The probability of picking a door with a car : ' + str(self.car_count/self.number_of_trials))\n",
    "            \n",
    "    def generate_result_plot(self):\n",
    "        \"\"\" This method generates a histogram plot for the trial results\"\"\"\n",
    "        \n",
    "        sns.set()\n",
    "        df = pd.DataFrame({'result' : self.results})\n",
    "        _ = plt.hist(df, bins=3)\n",
    "        _ = plt.xlabel('zonk vs. car')\n",
    "        if self.swap == True:\n",
    "            _ = plt.ylabel('P for N trials with swap')\n",
    "        else:\n",
    "            _ = plt.ylabel('P for N trials w/o swap')\n",
    "            \n",
    "        plt.show()\n",
    "    \n",
    "            \n",
    "            "
   ]
  },
  {
   "cell_type": "code",
   "execution_count": 4,
   "metadata": {},
   "outputs": [
    {
     "name": "stdout",
     "output_type": "stream",
     "text": [
      "The probability of picking a door with a zonk : 0.6639\n",
      "The probability of picking a door with a car : 0.3361\n"
     ]
    },
    {
     "data": {
      "image/png": "[encoded data removed]",
      "text/plain": [
       "<matplotlib.figure.Figure at 0x1169dcf98>"
      ]
     },
     "metadata": {},
     "output_type": "display_data"
    }
   ],
   "source": [
    "# Simulation 1: for the scenario where contestant does NOT swap original door selection, probability of getting\n",
    "# a goat/zonk behind the original door is 2/3\n",
    "\n",
    "N = 10000\n",
    "random.seed(0)\n",
    "\n",
    "sim1 = MH_Trial(N, swap=False)\n",
    "\n",
    "for x in range(N):\n",
    "    sim1.assign_car_to_door()\n",
    "    sim1.pick_door()\n",
    "    sim1.tally_result()\n",
    "    \n",
    "sim1.print_final_tally()\n",
    "sim1.generate_result_plot()\n",
    "    "
   ]
  },
  {
   "cell_type": "code",
   "execution_count": 5,
   "metadata": {},
   "outputs": [
    {
     "name": "stdout",
     "output_type": "stream",
     "text": [
      "The probability of picking a door with a zonk : 0.3302\n",
      "The probability of picking a door with a car : 0.6698\n"
     ]
    },
    {
     "data": {
      "image/png": "[encoded data removed]",
      "text/plain": [
       "<matplotlib.figure.Figure at 0x116e77898>"
      ]
     },
     "metadata": {},
     "output_type": "display_data"
    }
   ],
   "source": [
    "#Simulation 2: for the scenario where contestant swaps original door selection with remaining unopened door\n",
    "\n",
    "random.seed(0)\n",
    "\n",
    "sim2 = MH_Trial(N, swap=True)\n",
    "\n",
    "for x in range(N):\n",
    "    sim2.assign_car_to_door()\n",
    "    sim2.pick_door()\n",
    "    sim2.tally_result()\n",
    "\n",
    "sim2.print_final_tally()\n",
    "sim2.generate_result_plot()"
   ]
  },
  {
   "cell_type": "code",
   "execution_count": null,
   "metadata": {
    "collapsed": true
   },
   "outputs": [],
   "source": []
  }
 ],
 "metadata": {
  "kernelspec": {
   "display_name": "Python 3",
   "language": "python",
   "name": "python3"
  },
  "language_info": {
   "codemirror_mode": {
    "name": "ipython",
    "version": 3
   },
   "file_extension": ".py",
   "mimetype": "text/x-python",
   "name": "python",
   "nbconvert_exporter": "python",
   "pygments_lexer": "ipython3",
   "version": "3.6.3"
  }
 },
 "nbformat": 4,
 "nbformat_minor": 2
}
