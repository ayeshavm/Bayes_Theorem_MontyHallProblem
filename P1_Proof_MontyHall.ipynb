{
 "cells": [
  {
   "cell_type": "markdown",
   "metadata": {},
   "source": [
    "### Proof of Monty Hall Problem: Switching gives better chances for winning the car\n",
    "\n",
    "\n",
    "Bayes Theorem is the probability of two events A and B happening,\n",
    "which looks like:\n",
    "$$P(A\\mid B) = \\frac{P(B\\mid A)P(A)}{P(B)}$$ \n",
    "\n",
    "\n",
    "We can apply Baye's Theorem to prove that switching your door selection to the remaining closed door is a better option, and would give the contestant better chances of winning -- finding the car behind the door.\n",
    "\n",
    "\n",
    "In the game show, three doors are presented to the contestant: door 1, door 2, and door 3.\n",
    "\n",
    "- *The probability that a car is behind door 1, which will be denoted as:* $$P(door_1 = car) = \\frac{1}{3}$$\n",
    "\n",
    "- *The probability that a car is behind door 2, which will be denoted as:* $$P(door_2 = car) = \\frac{1}{3}$$\n",
    "\n",
    "- *The probability that a car is behind door 3, which will be denoted as:* $$P(door_3 = car) = \\frac{1}{3}$$\n",
    "\n",
    "\n",
    "\n",
    "**We will assume that contestant originally picks door 1, which would leave doors 2 and 3 for Monty to open.*\n",
    "\n",
    "The aim is to prove that the probability that the car is behind the unselected doors (in this case door 2 or 3), is greater than the probability that the car is in the door originally selected by the contestant, in this case, door 1.\n"
   ]
  },
  {
   "cell_type": "code",
   "execution_count": 3,
   "metadata": {
    "collapsed": true
   },
   "outputs": [],
   "source": [
    "p_door1_isCar = 1/3\n",
    "p_door2_isCar = 1/3\n",
    "p_door3_isCar = 1/3"
   ]
  },
  {
   "cell_type": "markdown",
   "metadata": {},
   "source": [
    "For the sake of this proof, we will compute using the assumption that door 3 is the door to be opened by Monty.\n",
    "\n",
    "$$P(opened = door3)$$\n",
    "\n",
    "\n"
   ]
  },
  {
   "cell_type": "markdown",
   "metadata": {},
   "source": [
    "$$P(opened = door3) = P(opened = door3 , door1 = car)+ P(opened = door3 , door2 = car) + P(opened = door3 , door3 = car)$$"
   ]
  },
  {
   "cell_type": "markdown",
   "metadata": {},
   "source": [
    "We can break this down further:\n",
    "\n",
    "$$P(opened = door3, door1 = car) = P(opened = door3 | door1 = car)* P(door1 = car)$$\n",
    "\n",
    "$$P(opened = door3, door2 = car) = P(opened = door3 | door2 = car) * P(door2 = car)$$\n",
    "\n",
    "$$P(opened = door3, door3 = car) = P(opened = door3 | door3 = car) * P(door3 = car)$$\n",
    "\n",
    "\n",
    "- *The probability of opening door 3, given door 1 has the car: * $$P(opened = door3| door1 = car) = \\frac{1}{2}$$\n",
    "\n",
    "- *The probability of opening door 3, given door 2 has the car: * $$P(opened = door3| door2 = car) = 1$$\n",
    "\n",
    "- *The probability of opening door 3, given door 3 has the car: * $$P(opened = door3| door3 = car) = 0$$"
   ]
  },
  {
   "cell_type": "code",
   "execution_count": 7,
   "metadata": {},
   "outputs": [],
   "source": [
    "p_open_d3_door1_isCar = 1/2\n",
    "p_open_d3_door2_isCar = 1\n",
    "p_open_d3_door3_isCar = 0\n",
    "\n"
   ]
  },
  {
   "cell_type": "markdown",
   "metadata": {},
   "source": [
    "Given the Baye's theorem, we can substitute these scenarios to our formula:  $$P(door2 = car | opened = door3) = \\frac{P(opened = door3 | door2 = car) * P(door2 = car)}{P(opened = door3)\n",
    "}$$\n",
    "\n",
    "\n",
    "where:  *P(door2 = car | opened = door3) is the Probability that the car will be in door 2, given that Monty Hall opens door 3 to reveal one of the goats*"
   ]
  },
  {
   "cell_type": "markdown",
   "metadata": {},
   "source": [
    "In our denominator, we can break this down further as we had earlier:\n",
    "\n",
    "$$P(opened = door3) =  P(opened = door3 | door1 = car)* P(door1 = car) + $$ \n",
    "$$P(opened = door3 | door2 = car) * P(door2 = car) + $$ $$P(opened = door3 | door3 = car) * P(door3 = car)$$"
   ]
  },
  {
   "cell_type": "code",
   "execution_count": 16,
   "metadata": {},
   "outputs": [],
   "source": [
    "p_open_d3 = (p_open_d3_door1_isCar * p_door1_isCar) + (p_open_d3_door2_isCar * p_door2_isCar) + (p_open_d3_door3_isCar * p_door3_isCar)\n",
    "#print(p_open_d3)"
   ]
  },
  {
   "cell_type": "markdown",
   "metadata": {},
   "source": [
    "rewriting our formula to  P(door2 = car | opened = door3) \n",
    "\n",
    "$$= \\frac{P(opened = door3 | door2 = car) * P(door2 = car)}{P(opened = door3 | door1 = car)* P(door1 = car) + \n",
    " P(opened = door3 | door2 = car) * P(door1 = car) + P(opened = door3 | door3 = car) * P(door1 = car)\n",
    "}$$"
   ]
  },
  {
   "cell_type": "markdown",
   "metadata": {},
   "source": [
    "$$P(door2 = car | opened = door3)  = \\frac { 1 * \\frac{1}{3}}{ (\\frac{1}{2}* \\frac{1}{3}) + \n",
    " (1 * \\frac{1}{3}) + (0 * \\frac{1}{3})\n",
    "} = \\frac{2}{3}$$"
   ]
  },
  {
   "cell_type": "code",
   "execution_count": 21,
   "metadata": {},
   "outputs": [
    {
     "name": "stdout",
     "output_type": "stream",
     "text": [
      "True\n"
     ]
    }
   ],
   "source": [
    "#compute for probability that car will be behind door 2, give door 3 is opened to reveal one of the goats\n",
    "p_door2_isCar_g_open_door3 = (p_open_d3_door2_isCar * p_door2_isCar) / p_open_d3\n",
    "\n",
    "print(p_door2_isCar_g_open_door3 == 2/3)"
   ]
  },
  {
   "cell_type": "markdown",
   "metadata": {},
   "source": [
    "#### To show the probability of having the car behind door 1 (original door selected by contestant), , given that Monty Hall opens door 3 -- that is without switching their selection"
   ]
  },
  {
   "cell_type": "markdown",
   "metadata": {},
   "source": [
    "Given the Baye's theorem, we can substitute this scenarios to our formula:  $$P(door1 = car | opened = door3) = \\frac{P(opened = door3 | door1 = car) * P(door1 = car)}{P(opened = door3)\n",
    "}$$\n",
    "\n",
    "where: *P(door1 = car | opened = door3) is the Probability that the car will be in door 1, given that Monty Hall opens door 3 to reveal one of the goats*"
   ]
  },
  {
   "cell_type": "markdown",
   "metadata": {},
   "source": [
    "In our denominator, we can break this down further as we had earlier:\n",
    "\n",
    "$$P(opened = door3) =  P(opened = door3 | door1 = car)* P(door1 = car) + $$ \n",
    "$$P(opened = door3 | door2 = car) * P(door1 = car) + $$ $$P(opened = door3 | door3 = car) * P(door1 = car)$$"
   ]
  },
  {
   "cell_type": "markdown",
   "metadata": {},
   "source": [
    "rewriting our formula to  P(door1 = car | opened = door3) \n",
    "\n",
    "$$= \\frac{P(opened = door3 | door1 = car) * P(door1 = car)}{P(opened = door3 | door1 = car)* P(door1 = car) + \n",
    " P(opened = door3 | door2 = car) * P(door1 = car) + P(opened = door3 | door3 = car) * P(door1 = car)\n",
    "}$$"
   ]
  },
  {
   "cell_type": "markdown",
   "metadata": {},
   "source": [
    "$$P(door1 = car | opened = door3)  = \\frac {\\frac{1}{2} * \\frac{1}{3}}{ (\\frac{1}{2}* \\frac{1}{3}) + \n",
    " (1 * \\frac{1}{3}) + (0 * \\frac{1}{3})\n",
    "} = \\frac{1}{3}$$"
   ]
  },
  {
   "cell_type": "code",
   "execution_count": 22,
   "metadata": {},
   "outputs": [
    {
     "name": "stdout",
     "output_type": "stream",
     "text": [
      "True\n"
     ]
    }
   ],
   "source": [
    "#Compute for the probability that door 1 will have the car, given door 3 is opened to reveal one of the goats\n",
    "p_door1_isCar_g_open_door3 = (p_open_d3_door1_isCar * p_door1_isCar) / p_open_d3\n",
    "\n",
    "print(p_door1_isCar_g_open_door3 == 1/3)"
   ]
  },
  {
   "cell_type": "markdown",
   "metadata": {},
   "source": [
    "## Conclusion:\n",
    "\n",
    "In our scenario where contestant picks the door 1 originally, using Bayes theorem we were able to show that probability that the car will be in door 2, given Monty Hall opens door 3, is greater than the probability that the car will be in door 1 -- the original door selected.  This shows that switching the selection to the other remaining door will give the contestant better chances of winning:\n",
    "\n",
    "$$[P(door2 = car | opened = door3) = \\frac{2}{3}] > [P(door1 = car | opened = door3) = \\frac{1}{2}]$$\n"
   ]
  },
  {
   "cell_type": "code",
   "execution_count": null,
   "metadata": {
    "collapsed": true
   },
   "outputs": [],
   "source": []
  }
 ],
 "metadata": {
  "kernelspec": {
   "display_name": "Python 3",
   "language": "python",
   "name": "python3"
  },
  "language_info": {
   "codemirror_mode": {
    "name": "ipython",
    "version": 3
   },
   "file_extension": ".py",
   "mimetype": "text/x-python",
   "name": "python",
   "nbconvert_exporter": "python",
   "pygments_lexer": "ipython3",
   "version": "3.6.3"
  }
 },
 "nbformat": 4,
 "nbformat_minor": 2
}
